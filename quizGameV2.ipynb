{
  "nbformat": 4,
  "nbformat_minor": 0,
  "metadata": {
    "colab": {
      "provenance": []
    },
    "kernelspec": {
      "name": "python3",
      "display_name": "Python 3"
    },
    "language_info": {
      "name": "python"
    }
  },
  "cells": [
    {
      "cell_type": "code",
      "execution_count": null,
      "metadata": {
        "id": "3iwdVYhFWQwP"
      },
      "outputs": [],
      "source": [
        "!pip install mecab-python3\n",
        "!pip install fugashi[unidic-lite]"
      ]
    },
    {
      "cell_type": "code",
      "source": [
        "#@title\n",
        "def initial_setup():\n",
        "    necessary_files = [\n",
        "        # \"20170201.tar.bz2\",\n",
        "        # \"cc.ja.300.vec.gz\",\n",
        "        \"wnjpn.db\",\n",
        "        \"jawiki.all_vectors.100d.txt.bz2\",\n",
        "        \"corpus/ldcc-20140209.tar.gz\",\n",
        "    ]\n",
        "    if all(list(map(lambda path: os.path.exists(os.path.join(BASE_PATH, path)),\n",
        "                   necessary_files ))):pass\n",
        "    else:\n",
        "        %cd /content/drive/MyDrive/DemoLesson/\n",
        "        # WordNet\n",
        "        !wget https://github.com/bond-lab/wnja/releases/download/v1.1/wnjpn.db.gz\n",
        "        with gzip.open(os.path.join(BASE_PATH, 'wnjpn.db.gz'), 'rb') as f_in:\n",
        "            with open(os.path.join(BASE_PATH, 'wnjpn.db'), 'wb') as f_out:\n",
        "                shutil.copyfileobj(f_in, f_out)\n",
        "        # word2vecのダウンロード\n",
        "        # !wget https://dl.fbaipublicfiles.com/fasttext/vectors-crawl/cc.ja.300.vec.gz\n",
        "        # !wget http://www.cl.ecei.tohoku.ac.jp/~m-suzuki/jawiki_vector/data/20170201.tar.bz2\n",
        "        !wget https://github.com/singletongue/WikiEntVec/releases/download/20190520/jawiki.all_vectors.100d.txt.bz2\n"
      ],
      "metadata": {
        "id": "gkDBLXKcWWp8"
      },
      "execution_count": null,
      "outputs": []
    },
    {
      "cell_type": "code",
      "source": [
        "from google import colab\n",
        "colab.drive.mount(\"/content/drive\")\n",
        "\n",
        "BASE_PATH = \"/content/drive/MyDrive/DemoLesson\""
      ],
      "metadata": {
        "id": "a8n-z8B-WYby"
      },
      "execution_count": null,
      "outputs": []
    },
    {
      "cell_type": "code",
      "source": [
        "import gzip\n",
        "import shutil\n",
        "import os\n",
        "import pandas as pd\n",
        "from collections import Counter\n",
        "import random\n",
        "\n",
        "initial_setup()\n",
        "\n",
        "from gensim.models import KeyedVectors\n",
        "wv = KeyedVectors.load_word2vec_format(os.path.join(BASE_PATH, 'jawiki.all_vectors.100d.txt.bz2'), binary=False)\n",
        "\n",
        "import sqlite3\n",
        "import numpy as np\n",
        "\n",
        "words = []\n",
        "with open(\"/content/drive/MyDrive/DemoLesson/words_for_game.csv\", \"r\") as f:\n",
        "    words = f.read()\n",
        "\n",
        "words = words.split(\"\\n\")[1:]"
      ],
      "metadata": {
        "id": "e7_SUlTDWc2w"
      },
      "execution_count": null,
      "outputs": []
    },
    {
      "cell_type": "code",
      "source": [
        "# SQL周りの関数定義\n",
        "def get_hype_list(target_word: str):\n",
        "    \"\"\"上位語を取得する関数\"\"\"\n",
        "    hype_list = []\n",
        "\n",
        "    conn = sqlite3.connect(os.path.join(BASE_PATH, 'wnjpn.db'))\n",
        "    cursor = conn.cursor()\n",
        "\n",
        "    query = f\"\"\"\n",
        "    SELECT\n",
        "      w1.lemma, sl.link, w2.lemma\n",
        "    FROM synlink AS sl\n",
        "    INNER JOIN synset AS sy1 ON sy1.synset = sl.synset1\n",
        "    INNER JOIN synset AS sy2 ON sy2.synset = sl.synset2\n",
        "    INNER JOIN sense AS se1 ON se1.synset = sy1.synset\n",
        "    INNER JOIN sense AS se2 ON se2.synset = sy2.synset\n",
        "    INNER JOIN word AS w1 ON w1.wordid = se1.wordid\n",
        "    INNER JOIN word AS w2 ON w2.wordid = se2.wordid\n",
        "    WHERE w1.lemma = '{target_word}' AND sl.link IN ('hype', 'hypo')\n",
        "      AND se1.lang = 'jpn' AND w1.lang = 'jpn' AND se2.lang = 'jpn' AND w2.lang = 'jpn'\n",
        "    \"\"\"\n",
        "\n",
        "    cursor.execute(query)\n",
        "    results = cursor.fetchall()\n",
        "\n",
        "    conn.close()\n",
        "\n",
        "    for row in results:\n",
        "        _, link, lemma2 = row\n",
        "        if link == 'hype': hype_list.append(lemma2)\n",
        "    return hype_list\n",
        "\n",
        "\n",
        "def get_hypo_list(hype: str):\n",
        "    \"\"\" 下位語を取得して，そのリストを返却\"\"\"\n",
        "    hypo_list = []\n",
        "\n",
        "    conn = sqlite3.connect(os.path.join(BASE_PATH, 'wnjpn.db'))\n",
        "    cursor = conn.cursor()\n",
        "\n",
        "    query = f\"\"\"\n",
        "    SELECT\n",
        "      w1.lemma, sl.link, w2.lemma\n",
        "    FROM synlink AS sl\n",
        "    INNER JOIN synset AS sy1 ON sy1.synset = sl.synset1\n",
        "    INNER JOIN synset AS sy2 ON sy2.synset = sl.synset2\n",
        "    INNER JOIN sense AS se1 ON se1.synset = sy1.synset\n",
        "    INNER JOIN sense AS se2 ON se2.synset = sy2.synset\n",
        "    INNER JOIN word AS w1 ON w1.wordid = se1.wordid\n",
        "    INNER JOIN word AS w2 ON w2.wordid = se2.wordid\n",
        "    WHERE w1.lemma = '{hype}' AND sl.link IN ('hype', 'hypo')\n",
        "      AND se1.lang = 'jpn' AND w1.lang = 'jpn' AND se2.lang = 'jpn' AND w2.lang = 'jpn'\n",
        "    \"\"\"\n",
        "\n",
        "    cursor.execute(query)\n",
        "    results = cursor.fetchall()\n",
        "\n",
        "    conn.close()\n",
        "\n",
        "    for row in results:\n",
        "        _, link, lemma2 = row\n",
        "        if link == 'hypo': hypo_list.append(lemma2)\n",
        "    return hypo_list\n",
        "\n",
        "def get_options(ans, w1, w2):\n",
        "    options = []\n",
        "    for word in [ans, w1, w2]:\n",
        "        for hype in get_hype_list(word):\n",
        "            options.extend(get_hypo_list(hype))\n",
        "            options = list(set(options))\n",
        "            if len(options) >= 8:\n",
        "                options = options[:8]\n",
        "                if ans in options:\n",
        "                    break\n",
        "                else:\n",
        "                    options = options[:7]\n",
        "                    options += [ans]\n",
        "        if len(options) >= 8:break\n",
        "    random.shuffle(options)\n",
        "    return options\n",
        "\n",
        "def get_formula(w1, w2, ans):\n",
        "    d = dict(w1=w1, w2=w2)\n",
        "    keys = list(d.keys())\n",
        "    random.shuffle(keys)\n",
        "    s = np.random.randint(1, 3)\n",
        "    if s==1:\n",
        "        params = dict(positive=list(d.values()), negative=[ans])\n",
        "        simw = wv.most_similar(topn=1, **params)[0][0].replace(\"#\", \"\")\n",
        "        pos_list = list(d.values())\n",
        "        neg = simw\n",
        "    else:\n",
        "        parmas = dict(positive=[d[keys[0]], ans], negative=[d[keys[1]]])\n",
        "        simw = wv.most_similar(topn=1, **parmas)[0][0].replace(\"#\", \"\")\n",
        "        pos_list = [d[keys[1]], simw]\n",
        "        neg = d[keys[0]]\n",
        "    random.shuffle(pos_list)\n",
        "    formula = f\"{pos_list[0]} - {neg} + {pos_list[1]} = ?\"\n",
        "    return formula\n",
        "\n",
        "def get_formula_and_ans():\n",
        "    i1, i2, i3 = np.random.choice(np.arange(len(words)), 3, replace=False)\n",
        "    w1 = words[i1]\n",
        "    w2 = words[i2]\n",
        "    ans = words[i3]\n",
        "    formula = get_formula(w1, w2, ans)\n",
        "    return formula, ans, w1, w2\n",
        "\n",
        "def remove_hash(*args):\n",
        "    return list(map(lambda w: w.replace(\"#\", \"\"), args))\n",
        "\n",
        "def init_game():\n",
        "    formula, ans, w1, w2 = get_formula_and_ans()\n",
        "    options = get_options(ans, w1, w2)\n",
        "    return formula, options, ans"
      ],
      "metadata": {
        "id": "l1v-ZIkCWdhe"
      },
      "execution_count": null,
      "outputs": []
    },
    {
      "cell_type": "code",
      "source": [
        "# for _ in range(100):\n",
        "#     formula, options, ans = init_game()\n",
        "#     # print(formula)\n",
        "#     # print(\"選択肢:\", options)\n",
        "#     if ans not in options: raise \"回答が選択肢に存在しません\""
      ],
      "metadata": {
        "id": "w6-91k_RPLrF"
      },
      "execution_count": null,
      "outputs": []
    },
    {
      "cell_type": "code",
      "source": [
        "formula, options, ans = init_game()\n",
        "print(formula)\n",
        "print(\"選択肢:\", options)"
      ],
      "metadata": {
        "id": "sNKzXOiovrSl"
      },
      "execution_count": null,
      "outputs": []
    },
    {
      "cell_type": "code",
      "source": [],
      "metadata": {
        "id": "EK8uaQRtdpBB"
      },
      "execution_count": null,
      "outputs": []
    },
    {
      "cell_type": "code",
      "source": [
        "ans"
      ],
      "metadata": {
        "id": "qWBKRFhuqE5o"
      },
      "execution_count": null,
      "outputs": []
    },
    {
      "cell_type": "code",
      "source": [
        "wv.most_similar(positive=[\"東京\", \"フランス\"], negative=[\"日本\"], topn=5)"
      ],
      "metadata": {
        "id": "UndtWZMibzJs"
      },
      "execution_count": null,
      "outputs": []
    },
    {
      "cell_type": "code",
      "source": [],
      "metadata": {
        "id": "1w5i4ZvxcDcf"
      },
      "execution_count": null,
      "outputs": []
    }
  ]
}