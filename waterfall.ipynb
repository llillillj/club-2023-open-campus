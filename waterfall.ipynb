{
  "cells": [
    {
      "attachments": {},
      "cell_type": "markdown",
      "metadata": {
        "id": "UkybDPuP162G"
      },
      "source": [
        "# 自己回帰モデルを用いた画像生成の例"
      ]
    },
    {
      "attachments": {},
      "cell_type": "markdown",
      "metadata": {},
      "source": [
        "## githubリポジトリから10秒の動画をダウンロードして使用してください"
      ]
    },
    {
      "attachments": {},
      "cell_type": "markdown",
      "metadata": {
        "id": "PvuGaSsJE5mU"
      },
      "source": [
        "## 環境構築"
      ]
    },
    {
      "cell_type": "code",
      "execution_count": null,
      "metadata": {
        "cellView": "form",
        "id": "Rv83MjT4DZ32"
      },
      "outputs": [],
      "source": [
        "#@title\n",
        "!pip install japanize_matplotlib\n",
        "\n",
        "from google.colab import files, drive\n",
        "\n",
        "import numpy as np\n",
        "import cv2\n",
        "\n",
        "import matplotlib.pyplot as plt\n",
        "import seaborn as sns\n",
        "import os\n",
        "\n",
        "from moviepy.editor import VideoFileClip\n",
        "from tqdm import tqdm\n",
        "\n",
        "from matplotlib.animation import FuncAnimation\n",
        "from IPython.display import HTML\n",
        "from IPython.display import display\n",
        "\n",
        "import japanize_matplotlib\n",
        "\n",
        "drive.mount(\"/content/drive\")"
      ]
    },
    {
      "attachments": {},
      "cell_type": "markdown",
      "metadata": {
        "id": "XX98jx5-3k2E"
      },
      "source": [
        "## mp4ファイルの動画処理"
      ]
    },
    {
      "attachments": {},
      "cell_type": "markdown",
      "metadata": {
        "id": "qkl4l8DCFTiW"
      },
      "source": [
        "### 動画のアップロード\n",
        "- 開発時はmp4の1020x1980で作成"
      ]
    },
    {
      "cell_type": "code",
      "execution_count": null,
      "metadata": {
        "cellView": "form",
        "id": "CMfu72sM30SF"
      },
      "outputs": [],
      "source": [
        "#@title\n",
        "mp4_file_name = list(files.upload().keys())[0]\n",
        "if mp4_file_name[-3:] != \"mp4\":\n",
        "    raise ValueError(\"入力される画像の形式は，mp4を想定しています．\")\n",
        "mp4_file_path = os.path.join(\"/content\", mp4_file_name)"
      ]
    },
    {
      "attachments": {},
      "cell_type": "markdown",
      "metadata": {
        "id": "FeT206gkFYo5"
      },
      "source": [
        "### 動画ファイルを画像に分割"
      ]
    },
    {
      "cell_type": "code",
      "execution_count": null,
      "metadata": {
        "cellView": "form",
        "id": "J65bIWVM5aPX"
      },
      "outputs": [],
      "source": [
        "#@title\n",
        "def extract_frames(video_path, output_folder, frames_per_second):\n",
        "    clip = VideoFileClip(video_path)\n",
        "\n",
        "    # ビデオの長さとフレームレートを取得\n",
        "    duration = clip.duration\n",
        "    fps = clip.fps\n",
        "\n",
        "    # 指定したフレームレートに合わせてフレームを抽出する間隔を計算\n",
        "    interval = max(round(fps / frames_per_second), 1)\n",
        "\n",
        "    # 出力フォルダが存在しない場合は作成\n",
        "    if not os.path.exists(output_folder):\n",
        "        os.makedirs(output_folder)\n",
        "\n",
        "    for i, frame in tqdm(enumerate(clip.iter_frames())):\n",
        "        # 指定したフレーム間隔でフレームを保存\n",
        "        if i % interval == 0:\n",
        "            output_path = os.path.join(output_folder, f\"frame_{i:03d}.jpg\")\n",
        "            clip.save_frame(output_path, t=i/fps)  # 指定したタイムスタンプでフレームを保存\n",
        "\n",
        "        if (i + 1) / fps > duration:\n",
        "            break\n",
        "\n",
        "# 使用例\n",
        "video_path = os.path.join(\"/content\", mp4_file_path)  # 入力ビデオのパス\n",
        "output_folder = os.path.join(\"/content\", \"image_from_mp4\")  # 出力フォルダのパス\n",
        "frames_per_second = 100  # 1秒間に抽出するフレーム数\n",
        "\n",
        "extract_frames(video_path, output_folder, frames_per_second)\n"
      ]
    },
    {
      "attachments": {},
      "cell_type": "markdown",
      "metadata": {
        "id": "AWn9Y0LEFpyW"
      },
      "source": [
        "### 白黒画像に変換と縮尺変換"
      ]
    },
    {
      "cell_type": "code",
      "execution_count": null,
      "metadata": {
        "cellView": "form",
        "id": "Wj3efarNANm1"
      },
      "outputs": [],
      "source": [
        "#@title\n",
        "image_folder_path = output_folder\n",
        "image_name_list = os.listdir(image_folder_path)\n",
        "gray_image_folder_path = \"/content/gray_image_folder\"\n",
        "if not os.path.exists(gray_image_folder_path): os.mkdir(gray_image_folder_path)\n",
        "for image_name in tqdm(image_name_list):\n",
        "    image_path = os.path.join(image_folder_path, image_name)\n",
        "    image = cv2.imread(image_path)\n",
        "    scale_percent = 10 # percent of original size\n",
        "    width = int(image.shape[1] * scale_percent / 100)\n",
        "    height = int(image.shape[0] * scale_percent / 100)\n",
        "    dim = (width, height)\n",
        "\n",
        "    # resize image\n",
        "    image = cv2.resize(image, dim, interpolation = cv2.INTER_AREA)\n",
        "    image = cv2.cvtColor(image, cv2.COLOR_BGR2GRAY)\n",
        "    cv2.imwrite(os.path.join(gray_image_folder_path, image_name), image)"
      ]
    },
    {
      "attachments": {},
      "cell_type": "markdown",
      "metadata": {
        "id": "WqvFqZfFF09B"
      },
      "source": [
        "## 学習データの作成"
      ]
    },
    {
      "attachments": {},
      "cell_type": "markdown",
      "metadata": {
        "id": "8BZbYIEK2Ihv"
      },
      "source": [
        "### 読み込み"
      ]
    },
    {
      "attachments": {},
      "cell_type": "markdown",
      "metadata": {
        "id": "5Ii8hezH2ZvC"
      },
      "source": [
        "#### 外観の確認"
      ]
    },
    {
      "cell_type": "code",
      "execution_count": null,
      "metadata": {
        "cellView": "form",
        "id": "5ksgl79nDBWn"
      },
      "outputs": [],
      "source": [
        "#@title\n",
        "image_names = os.listdir(gray_image_folder_path)\n",
        "image_path_list = [os.path.join(gray_image_folder_path, image_name) for image_name in image_names]\n",
        "image_name = image_names[0]\n",
        "fig, axs = plt.subplots(2, 3, figsize=(12, 6))\n",
        "axs = axs.flatten()\n",
        "for i, image_path in enumerate(image_path_list[:6]):\n",
        "    image = cv2.imread(image_path)\n",
        "    image = cv2.cvtColor(image, cv2.COLOR_BGR2RGB)\n",
        "    axs[i].imshow(image)\n",
        "    axs[i].axis(\"off\")\n",
        "    axs[i].set_title(f\"File name: {image_name}\")\n",
        "plt.suptitle(\"利用するデータの概観\", fontsize=18)\n",
        "plt.tight_layout()\n",
        "plt.show()"
      ]
    },
    {
      "attachments": {},
      "cell_type": "markdown",
      "metadata": {
        "id": "yDwqAs2k2r23"
      },
      "source": [
        "データを変数として記録するフェーズ"
      ]
    },
    {
      "cell_type": "code",
      "execution_count": null,
      "metadata": {
        "cellView": "form",
        "id": "zAxr8U6dDS4O"
      },
      "outputs": [],
      "source": [
        "#@title\n",
        "data = []\n",
        "for i in range(len(image_path_list)):\n",
        "    image = cv2.imread(image_path_list[i])\n",
        "    image = image.transpose(2, 0, 1)\n",
        "    # 各チャンネルの状態を確認したかったらここを制御\n",
        "    # if i == 0:\n",
        "    #     fig = plt.figure(figsize=(12, 2.9))\n",
        "    #     for channel in range(3):\n",
        "    #         ax = fig.add_subplot(1, 3, channel+1)\n",
        "    #         sns.heatmap(image[channel], cmap=\"gray\", ax=ax, cbar=False)\n",
        "    #         ax.axis(\"off\")\n",
        "    #         ax.set_title(f\"channel: {channel}\")\n",
        "    #     plt.suptitle(\"各チャンネルごとのフレーム\")\n",
        "    #     plt.tight_layout()\n",
        "    #     plt.show()\n",
        "    image = image[0]\n",
        "    data.append(image)\n",
        "data = np.array(data, dtype=np.uint8)"
      ]
    },
    {
      "cell_type": "code",
      "execution_count": null,
      "metadata": {
        "cellView": "form",
        "id": "tfFPFUfvhawM"
      },
      "outputs": [],
      "source": [
        "#@title\n",
        "image_shape = data.shape[1:]\n",
        "data_1d = data.reshape(len(data), -1)\n",
        "print(data.shape, \"->\", data_1d.shape)\n",
        "\n",
        "train_size = len(data_1d) * 8 // 10\n",
        "train, test = data_1d[:train_size], data_1d[train_size:]\n",
        "\n",
        "print(\"train size:\", len(train))\n",
        "print(\"test size:\", len(test))"
      ]
    },
    {
      "attachments": {},
      "cell_type": "markdown",
      "metadata": {
        "id": "yNnYBCA50SNk"
      },
      "source": [
        "### 学習データの圧縮"
      ]
    },
    {
      "cell_type": "code",
      "execution_count": null,
      "metadata": {
        "id": "aBNrSHmmmDC6"
      },
      "outputs": [],
      "source": [
        "from sklearn.decomposition import PCA\n",
        "\n",
        "# 圧縮する次元数を指定\n",
        "n_components = 50"
      ]
    },
    {
      "cell_type": "code",
      "execution_count": null,
      "metadata": {
        "cellView": "form",
        "id": "lI3x4b8xuMf8"
      },
      "outputs": [],
      "source": [
        "#@title\n",
        "decomposition = PCA(n_components=200)\n",
        "train_decomposed = decomposition.fit_transform(train)\n",
        "fig = plt.figure(figsize=(12, 5))\n",
        "ax.semilogy(base=np.e)\n",
        "ax = fig.add_subplot()\n",
        "sns.lineplot(decomposition.explained_variance_ratio_, ax=ax)\n",
        "ax.set_title(\"各コンポーネントの分散の割合\")\n",
        "ax.set_ylabel(\"分散説明割合\")\n",
        "ax.set_xlabel(\"コンポーネント数（削減後の次元数）\")\n",
        "ax.text(n_components/200-.065, 0.3, f\"被説明分散割合\\nndim: {n_components} | {decomposition.explained_variance_ratio_[:n_components].sum():.5f}\", transform=ax.transAxes, fontsize=12, ha=\"center\")\n",
        "ax.axvline(n_components, color=\"r\")\n",
        "plt.tight_layout()\n",
        "plt.show()\n",
        "\n",
        "\n",
        "decomposition = PCA(n_components=n_components)\n",
        "train_decomposed = decomposition.fit_transform(train)\n",
        "test_decomposed = decomposition.transform(test)"
      ]
    },
    {
      "attachments": {},
      "cell_type": "markdown",
      "metadata": {
        "id": "mZa9Y6KI14TP"
      },
      "source": [
        "# 学習データとテストデータへの分割"
      ]
    },
    {
      "cell_type": "code",
      "execution_count": null,
      "metadata": {
        "cellView": "form",
        "id": "KWlFH_SFlWmi"
      },
      "outputs": [],
      "source": [
        "#@title\n",
        "# 訓練データ\n",
        "train_features = []\n",
        "train_t = []\n",
        "for i in range(len(train_decomposed)-3):\n",
        "    train_features.append(train_decomposed[i:i+3])\n",
        "    train_t.append(train_decomposed[i+3])\n",
        "train_features = np.array(train_features, dtype=np.uint8).reshape(len(train_features), -1)\n",
        "train_t = np.array(train_t).reshape(len(train_t), -1)\n",
        "\n",
        "train_t_image = (np.dot(train_t, decomposition.components_)\\\n",
        "                +train[:-3].mean(axis=0)).reshape(-1, image_shape[0], image_shape[1])\n",
        "# テストデータ\n",
        "test_features = []\n",
        "test_t = []\n",
        "for i in range(len(test_decomposed)-3):\n",
        "    test_features.append(test_decomposed[i:i+3])\n",
        "    test_t.append(test_decomposed[i+3])\n",
        "test_features = np.array(test_features, dtype=np.uint8)\\\n",
        "                        .reshape(len(test_features), -1)\n",
        "test_t = np.array(test_t, dtype=np.uint8).reshape(len(test_t), -1)\n",
        "\n",
        "test_t_image = (np.dot(test_t, decomposition.components_)\\\n",
        "                +test[:-3].mean(axis=0)).reshape(-1, image_shape[0], image_shape[1])"
      ]
    },
    {
      "attachments": {},
      "cell_type": "markdown",
      "metadata": {
        "id": "7wyMKkt53QnC"
      },
      "source": [
        "### どれくらいの精度で圧縮されているのか確認"
      ]
    },
    {
      "cell_type": "code",
      "execution_count": null,
      "metadata": {
        "cellView": "form",
        "id": "9PHchfLNKCac"
      },
      "outputs": [],
      "source": [
        "#@title\n",
        "fig = plt.figure(figsize=(20, 5.5))\n",
        "for i in range(10):\n",
        "    ax = fig.add_subplot(2, 5, i+1)\n",
        "    sns.heatmap((np.dot(train_t[i], decomposition.components_)+train.mean(axis=0))\\\n",
        "                .reshape(image_shape), cmap=\"gray\", ax=ax, cbar=False)\n",
        "    ax.set_title(\"train_t[{}]\".format(i))\n",
        "    ax.axis(\"off\")\n",
        "fig.suptitle(f\"{decomposition.n_components}次元に圧縮された教師データを展開\"\n",
        "                ,fontsize=14)\n",
        "fig.tight_layout()\n",
        "fig.show()\n",
        "\n",
        "fig = plt.figure(figsize=(20, 3))\n",
        "for i in range(5):\n",
        "    ax = fig.add_subplot(1, 5, i+1)\n",
        "    sns.heatmap((np.dot(test_t[i], decomposition.components_)+train.mean(axis=0))\\\n",
        "                .reshape(image_shape), cmap=\"gray\", ax=ax, cbar=False)\n",
        "    ax.set_title(\"test_t[{}]\".format(i))\n",
        "    ax.axis(\"off\")\n",
        "fig.suptitle(f\"{decomposition.n_components}次元に圧縮された未知データを展開\"\n",
        "                ,fontsize=14)\n",
        "fig.tight_layout()\n",
        "fig.show()"
      ]
    },
    {
      "cell_type": "code",
      "execution_count": null,
      "metadata": {
        "id": "5HEs_7Fxs0uq"
      },
      "outputs": [],
      "source": [
        "train_features.shape"
      ]
    },
    {
      "attachments": {},
      "cell_type": "markdown",
      "metadata": {
        "id": "LLdBTFSG9itx"
      },
      "source": [
        "# モデルの構築"
      ]
    },
    {
      "cell_type": "code",
      "execution_count": null,
      "metadata": {
        "id": "uvRqSmdsbI77"
      },
      "outputs": [],
      "source": [
        "scaled = True"
      ]
    },
    {
      "attachments": {},
      "cell_type": "markdown",
      "metadata": {
        "id": "9mK6F1CqE9ys"
      },
      "source": [
        "学習フェーズ"
      ]
    },
    {
      "cell_type": "code",
      "execution_count": null,
      "metadata": {
        "id": "1CZUiAUyp18w"
      },
      "outputs": [],
      "source": [
        "from sklearn.linear_model import ElasticNet\n",
        "from sklearn.preprocessing import MinMaxScaler\n",
        "\n",
        "scaler = MinMaxScaler().fit_transform\n",
        "regr = ElasticNet(random_state=0)\n",
        "if scaled: regr.fit(scaler(train_features), train_t)\n",
        "else: regr.fit(train_features, train_t)"
      ]
    },
    {
      "attachments": {},
      "cell_type": "markdown",
      "metadata": {
        "id": "P19hXbgqFHv-"
      },
      "source": [
        "推論フェーズ"
      ]
    },
    {
      "cell_type": "code",
      "execution_count": null,
      "metadata": {
        "cellView": "form",
        "id": "570fly7h9gqy"
      },
      "outputs": [],
      "source": [
        "#@title\n",
        "if scaled:\n",
        "    train_predict = regr.predict(scaler(train_features))\n",
        "    test_predict = regr.predict(scaler(test_features))\n",
        "else:\n",
        "    train_predict = regr.predict(train_features)\n",
        "    test_predict = regr.predict(test_features)\n",
        "\n",
        "print(\"Train_predict.shape:\", train_predict.shape)\n",
        "print(\"Train_t.shape:\", train_t.shape)\n",
        "print(\"Test_predict.shape:\", test_predict.shape)\n",
        "print(\"Test_t.shape:\", test_t.shape)\n",
        "\n",
        "train_predicted_image = \\\n",
        "    (np.dot(train_predict, decomposition.components_)\\\n",
        "    + train[:-3].mean(axis=0)).reshape(-1, image_shape[0], image_shape[1])\n",
        "\n",
        "test_predicted_image = \\\n",
        "    (np.dot(test_predict, decomposition.components_)\\\n",
        "    + test[:-3].mean(axis=0)).reshape(-1, image_shape[0], image_shape[1])"
      ]
    },
    {
      "cell_type": "code",
      "execution_count": null,
      "metadata": {
        "id": "k-L7Et21AnJ3"
      },
      "outputs": [],
      "source": [
        "print(\"Train true image:\", train_t_image.shape)\n",
        "print(\"Train predicted image:\", train_predicted_image.shape)\n",
        "print(\"Test true image:\", test_t_image.shape)\n",
        "print(\"Test predicted image:\", test_predicted_image.shape)"
      ]
    },
    {
      "attachments": {},
      "cell_type": "markdown",
      "metadata": {
        "id": "UwWJs4HdFPO-"
      },
      "source": [
        "## 推論結果の可視化（アニメーション）"
      ]
    },
    {
      "cell_type": "code",
      "execution_count": null,
      "metadata": {
        "cellView": "form",
        "id": "2S9twGFEORoR"
      },
      "outputs": [],
      "source": [
        "#@title\n",
        "def makeAnimation(frames):\n",
        "    plt.figure(figsize=(frames[0].shape[1]/25, frames[0].shape[0]/25), dpi=72)\n",
        "    patch = plt.imshow(frames[0], cmap=\"gray\")\n",
        "    plt.axis('off')\n",
        "    plt.tight_layout()\n",
        "\n",
        "    def animate(i):\n",
        "        patch.set_data(frames[i])\n",
        "\n",
        "    anim = FuncAnimation(plt.gcf(), animate, frames=len(frames), interval=1000/30.0)\n",
        "    display(HTML(anim.to_jshtml()))\n"
      ]
    },
    {
      "attachments": {},
      "cell_type": "markdown",
      "metadata": {
        "id": "rH7xoOFkQrg6"
      },
      "source": [
        "### 教師データ"
      ]
    },
    {
      "cell_type": "code",
      "execution_count": null,
      "metadata": {
        "id": "ha0AaADtPCgE"
      },
      "outputs": [],
      "source": [
        "makeAnimation(train_t_image)"
      ]
    },
    {
      "attachments": {},
      "cell_type": "markdown",
      "metadata": {
        "id": "5ns5k5WrQxa8"
      },
      "source": [
        "### 教師データに対する予測結果"
      ]
    },
    {
      "cell_type": "code",
      "execution_count": null,
      "metadata": {
        "id": "0CyCsmGAQNd8"
      },
      "outputs": [],
      "source": [
        "makeAnimation(train_predicted_image)"
      ]
    },
    {
      "attachments": {},
      "cell_type": "markdown",
      "metadata": {
        "id": "wue9Y6L8Q4zo"
      },
      "source": [
        "### 未知データ"
      ]
    },
    {
      "cell_type": "code",
      "execution_count": null,
      "metadata": {
        "id": "Ermk93G5RGL_"
      },
      "outputs": [],
      "source": [
        "makeAnimation(test_t_image)"
      ]
    },
    {
      "attachments": {},
      "cell_type": "markdown",
      "metadata": {
        "id": "qblCXAxrRIZC"
      },
      "source": [
        "### 未知データへの予測"
      ]
    },
    {
      "cell_type": "code",
      "execution_count": null,
      "metadata": {
        "id": "GKkh6Th9ROv7"
      },
      "outputs": [],
      "source": [
        "makeAnimation(test_predicted_image)"
      ]
    },
    {
      "attachments": {},
      "cell_type": "markdown",
      "metadata": {
        "id": "tdUQYebHRoZo"
      },
      "source": [
        "予測したデータから無限に生成"
      ]
    },
    {
      "cell_type": "code",
      "execution_count": null,
      "metadata": {
        "cellView": "form",
        "id": "2qynDw_QRRC8"
      },
      "outputs": [],
      "source": [
        "#@title\n",
        "# 初期値の設定\n",
        "feature = test_features[-1]\n",
        "\n",
        "predicted_images = []\n",
        "# 予測フレーム数\n",
        "n_predict_frames = 100\n",
        "for _ in range(n_predict_frames):\n",
        "    if scaled: predicted = regr.predict(scaler([feature]))\n",
        "    else: predicted = regr.predict([feature])\n",
        "    predicted_images.append(\n",
        "        (np.dot(predicted[0], decomposition.components_)+train.mean(axis=0)).reshape(image_shape[0], image_shape[1])\n",
        "    )\n",
        "    feature = np.vstack((feature.reshape(-1, n_components)[1:], predicted)).flatten()"
      ]
    },
    {
      "cell_type": "code",
      "execution_count": null,
      "metadata": {
        "id": "b2lZ-oGLWPk-"
      },
      "outputs": [],
      "source": [
        "makeAnimation(predicted_images)"
      ]
    },
    {
      "cell_type": "code",
      "execution_count": null,
      "metadata": {
        "id": "VTne3NIoYJNy"
      },
      "outputs": [],
      "source": []
    }
  ],
  "metadata": {
    "colab": {
      "provenance": []
    },
    "kernelspec": {
      "display_name": "Python 3",
      "name": "python3"
    },
    "language_info": {
      "name": "python"
    }
  },
  "nbformat": 4,
  "nbformat_minor": 0
}
